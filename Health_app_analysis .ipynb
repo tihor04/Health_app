{
 "cells": [
  {
   "cell_type": "code",
   "execution_count": 11,
   "id": "0da85c7a",
   "metadata": {},
   "outputs": [],
   "source": [
    "import numpy as np\n",
    "import pandas as pd \n",
    "import matplotlib.pyplot as plt \n",
    "import seaborn as sns \n",
    "import datetime as dt"
   ]
  },
  {
   "cell_type": "code",
   "execution_count": 2,
   "id": "321e510f",
   "metadata": {},
   "outputs": [],
   "source": [
    "health_df= pd.read_csv(\"HealthApp_2k.log_structured.csv\")"
   ]
  },
  {
   "cell_type": "code",
   "execution_count": 3,
   "id": "0020a58b",
   "metadata": {},
   "outputs": [
    {
     "data": {
      "text/html": [
       "<div>\n",
       "<style scoped>\n",
       "    .dataframe tbody tr th:only-of-type {\n",
       "        vertical-align: middle;\n",
       "    }\n",
       "\n",
       "    .dataframe tbody tr th {\n",
       "        vertical-align: top;\n",
       "    }\n",
       "\n",
       "    .dataframe thead th {\n",
       "        text-align: right;\n",
       "    }\n",
       "</style>\n",
       "<table border=\"1\" class=\"dataframe\">\n",
       "  <thead>\n",
       "    <tr style=\"text-align: right;\">\n",
       "      <th></th>\n",
       "      <th>LineId</th>\n",
       "      <th>Time</th>\n",
       "      <th>Component</th>\n",
       "      <th>Pid</th>\n",
       "      <th>Content</th>\n",
       "      <th>EventId</th>\n",
       "      <th>EventTemplate</th>\n",
       "    </tr>\n",
       "  </thead>\n",
       "  <tbody>\n",
       "    <tr>\n",
       "      <th>0</th>\n",
       "      <td>1</td>\n",
       "      <td>20171223-22:15:29:606</td>\n",
       "      <td>Step_LSC</td>\n",
       "      <td>30002312</td>\n",
       "      <td>onStandStepChanged 3579</td>\n",
       "      <td>E42</td>\n",
       "      <td>onStandStepChanged &lt;*&gt;</td>\n",
       "    </tr>\n",
       "    <tr>\n",
       "      <th>1</th>\n",
       "      <td>2</td>\n",
       "      <td>20171223-22:15:29:615</td>\n",
       "      <td>Step_LSC</td>\n",
       "      <td>30002312</td>\n",
       "      <td>onExtend:1514038530000 14 0 4</td>\n",
       "      <td>E39</td>\n",
       "      <td>onExtend:&lt;*&gt; &lt;*&gt; &lt;*&gt; &lt;*&gt;</td>\n",
       "    </tr>\n",
       "    <tr>\n",
       "      <th>2</th>\n",
       "      <td>3</td>\n",
       "      <td>20171223-22:15:29:633</td>\n",
       "      <td>Step_StandReportReceiver</td>\n",
       "      <td>30002312</td>\n",
       "      <td>onReceive action: android.intent.action.SCREEN_ON</td>\n",
       "      <td>E41</td>\n",
       "      <td>onReceive action: android.intent.action.SCREEN_ON</td>\n",
       "    </tr>\n",
       "    <tr>\n",
       "      <th>3</th>\n",
       "      <td>4</td>\n",
       "      <td>20171223-22:15:29:635</td>\n",
       "      <td>Step_LSC</td>\n",
       "      <td>30002312</td>\n",
       "      <td>processHandleBroadcastAction action:android.in...</td>\n",
       "      <td>E43</td>\n",
       "      <td>processHandleBroadcastAction action:android.in...</td>\n",
       "    </tr>\n",
       "    <tr>\n",
       "      <th>4</th>\n",
       "      <td>5</td>\n",
       "      <td>20171223-22:15:29:635</td>\n",
       "      <td>Step_StandStepCounter</td>\n",
       "      <td>30002312</td>\n",
       "      <td>flush sensor data</td>\n",
       "      <td>E12</td>\n",
       "      <td>flush sensor data</td>\n",
       "    </tr>\n",
       "  </tbody>\n",
       "</table>\n",
       "</div>"
      ],
      "text/plain": [
       "   LineId                   Time                 Component       Pid  \\\n",
       "0       1  20171223-22:15:29:606                  Step_LSC  30002312   \n",
       "1       2  20171223-22:15:29:615                  Step_LSC  30002312   \n",
       "2       3  20171223-22:15:29:633  Step_StandReportReceiver  30002312   \n",
       "3       4  20171223-22:15:29:635                  Step_LSC  30002312   \n",
       "4       5  20171223-22:15:29:635     Step_StandStepCounter  30002312   \n",
       "\n",
       "                                             Content EventId  \\\n",
       "0                            onStandStepChanged 3579     E42   \n",
       "1                      onExtend:1514038530000 14 0 4     E39   \n",
       "2  onReceive action: android.intent.action.SCREEN_ON     E41   \n",
       "3  processHandleBroadcastAction action:android.in...     E43   \n",
       "4                                  flush sensor data     E12   \n",
       "\n",
       "                                       EventTemplate  \n",
       "0                             onStandStepChanged <*>  \n",
       "1                           onExtend:<*> <*> <*> <*>  \n",
       "2  onReceive action: android.intent.action.SCREEN_ON  \n",
       "3  processHandleBroadcastAction action:android.in...  \n",
       "4                                  flush sensor data  "
      ]
     },
     "execution_count": 3,
     "metadata": {},
     "output_type": "execute_result"
    }
   ],
   "source": [
    "health_df.head()"
   ]
  },
  {
   "cell_type": "code",
   "execution_count": 5,
   "id": "fe1a4e28",
   "metadata": {},
   "outputs": [],
   "source": [
    "health_df = health_df.set_index(\"LineId\")\n",
    "health_df = health_df.reset_index(drop = True)"
   ]
  },
  {
   "cell_type": "code",
   "execution_count": 6,
   "id": "7af7ca80",
   "metadata": {},
   "outputs": [
    {
     "data": {
      "text/html": [
       "<div>\n",
       "<style scoped>\n",
       "    .dataframe tbody tr th:only-of-type {\n",
       "        vertical-align: middle;\n",
       "    }\n",
       "\n",
       "    .dataframe tbody tr th {\n",
       "        vertical-align: top;\n",
       "    }\n",
       "\n",
       "    .dataframe thead th {\n",
       "        text-align: right;\n",
       "    }\n",
       "</style>\n",
       "<table border=\"1\" class=\"dataframe\">\n",
       "  <thead>\n",
       "    <tr style=\"text-align: right;\">\n",
       "      <th></th>\n",
       "      <th>Time</th>\n",
       "      <th>Component</th>\n",
       "      <th>Pid</th>\n",
       "      <th>Content</th>\n",
       "      <th>EventId</th>\n",
       "      <th>EventTemplate</th>\n",
       "    </tr>\n",
       "  </thead>\n",
       "  <tbody>\n",
       "    <tr>\n",
       "      <th>0</th>\n",
       "      <td>20171223-22:15:29:606</td>\n",
       "      <td>Step_LSC</td>\n",
       "      <td>30002312</td>\n",
       "      <td>onStandStepChanged 3579</td>\n",
       "      <td>E42</td>\n",
       "      <td>onStandStepChanged &lt;*&gt;</td>\n",
       "    </tr>\n",
       "    <tr>\n",
       "      <th>1</th>\n",
       "      <td>20171223-22:15:29:615</td>\n",
       "      <td>Step_LSC</td>\n",
       "      <td>30002312</td>\n",
       "      <td>onExtend:1514038530000 14 0 4</td>\n",
       "      <td>E39</td>\n",
       "      <td>onExtend:&lt;*&gt; &lt;*&gt; &lt;*&gt; &lt;*&gt;</td>\n",
       "    </tr>\n",
       "    <tr>\n",
       "      <th>2</th>\n",
       "      <td>20171223-22:15:29:633</td>\n",
       "      <td>Step_StandReportReceiver</td>\n",
       "      <td>30002312</td>\n",
       "      <td>onReceive action: android.intent.action.SCREEN_ON</td>\n",
       "      <td>E41</td>\n",
       "      <td>onReceive action: android.intent.action.SCREEN_ON</td>\n",
       "    </tr>\n",
       "    <tr>\n",
       "      <th>3</th>\n",
       "      <td>20171223-22:15:29:635</td>\n",
       "      <td>Step_LSC</td>\n",
       "      <td>30002312</td>\n",
       "      <td>processHandleBroadcastAction action:android.in...</td>\n",
       "      <td>E43</td>\n",
       "      <td>processHandleBroadcastAction action:android.in...</td>\n",
       "    </tr>\n",
       "    <tr>\n",
       "      <th>4</th>\n",
       "      <td>20171223-22:15:29:635</td>\n",
       "      <td>Step_StandStepCounter</td>\n",
       "      <td>30002312</td>\n",
       "      <td>flush sensor data</td>\n",
       "      <td>E12</td>\n",
       "      <td>flush sensor data</td>\n",
       "    </tr>\n",
       "  </tbody>\n",
       "</table>\n",
       "</div>"
      ],
      "text/plain": [
       "                    Time                 Component       Pid  \\\n",
       "0  20171223-22:15:29:606                  Step_LSC  30002312   \n",
       "1  20171223-22:15:29:615                  Step_LSC  30002312   \n",
       "2  20171223-22:15:29:633  Step_StandReportReceiver  30002312   \n",
       "3  20171223-22:15:29:635                  Step_LSC  30002312   \n",
       "4  20171223-22:15:29:635     Step_StandStepCounter  30002312   \n",
       "\n",
       "                                             Content EventId  \\\n",
       "0                            onStandStepChanged 3579     E42   \n",
       "1                      onExtend:1514038530000 14 0 4     E39   \n",
       "2  onReceive action: android.intent.action.SCREEN_ON     E41   \n",
       "3  processHandleBroadcastAction action:android.in...     E43   \n",
       "4                                  flush sensor data     E12   \n",
       "\n",
       "                                       EventTemplate  \n",
       "0                             onStandStepChanged <*>  \n",
       "1                           onExtend:<*> <*> <*> <*>  \n",
       "2  onReceive action: android.intent.action.SCREEN_ON  \n",
       "3  processHandleBroadcastAction action:android.in...  \n",
       "4                                  flush sensor data  "
      ]
     },
     "execution_count": 6,
     "metadata": {},
     "output_type": "execute_result"
    }
   ],
   "source": [
    "health_df.head()"
   ]
  },
  {
   "cell_type": "code",
   "execution_count": 7,
   "id": "4ea86f7a",
   "metadata": {},
   "outputs": [],
   "source": [
    "health_df[['Date', 'Time']] = health_df['Time'].str.split('-', 1, expand=True)"
   ]
  },
  {
   "cell_type": "code",
   "execution_count": 8,
   "id": "f107df46",
   "metadata": {},
   "outputs": [
    {
     "data": {
      "text/html": [
       "<div>\n",
       "<style scoped>\n",
       "    .dataframe tbody tr th:only-of-type {\n",
       "        vertical-align: middle;\n",
       "    }\n",
       "\n",
       "    .dataframe tbody tr th {\n",
       "        vertical-align: top;\n",
       "    }\n",
       "\n",
       "    .dataframe thead th {\n",
       "        text-align: right;\n",
       "    }\n",
       "</style>\n",
       "<table border=\"1\" class=\"dataframe\">\n",
       "  <thead>\n",
       "    <tr style=\"text-align: right;\">\n",
       "      <th></th>\n",
       "      <th>Time</th>\n",
       "      <th>Component</th>\n",
       "      <th>Pid</th>\n",
       "      <th>Content</th>\n",
       "      <th>EventId</th>\n",
       "      <th>EventTemplate</th>\n",
       "      <th>Date</th>\n",
       "    </tr>\n",
       "  </thead>\n",
       "  <tbody>\n",
       "    <tr>\n",
       "      <th>0</th>\n",
       "      <td>22:15:29:606</td>\n",
       "      <td>Step_LSC</td>\n",
       "      <td>30002312</td>\n",
       "      <td>onStandStepChanged 3579</td>\n",
       "      <td>E42</td>\n",
       "      <td>onStandStepChanged &lt;*&gt;</td>\n",
       "      <td>20171223</td>\n",
       "    </tr>\n",
       "    <tr>\n",
       "      <th>1</th>\n",
       "      <td>22:15:29:615</td>\n",
       "      <td>Step_LSC</td>\n",
       "      <td>30002312</td>\n",
       "      <td>onExtend:1514038530000 14 0 4</td>\n",
       "      <td>E39</td>\n",
       "      <td>onExtend:&lt;*&gt; &lt;*&gt; &lt;*&gt; &lt;*&gt;</td>\n",
       "      <td>20171223</td>\n",
       "    </tr>\n",
       "    <tr>\n",
       "      <th>2</th>\n",
       "      <td>22:15:29:633</td>\n",
       "      <td>Step_StandReportReceiver</td>\n",
       "      <td>30002312</td>\n",
       "      <td>onReceive action: android.intent.action.SCREEN_ON</td>\n",
       "      <td>E41</td>\n",
       "      <td>onReceive action: android.intent.action.SCREEN_ON</td>\n",
       "      <td>20171223</td>\n",
       "    </tr>\n",
       "    <tr>\n",
       "      <th>3</th>\n",
       "      <td>22:15:29:635</td>\n",
       "      <td>Step_LSC</td>\n",
       "      <td>30002312</td>\n",
       "      <td>processHandleBroadcastAction action:android.in...</td>\n",
       "      <td>E43</td>\n",
       "      <td>processHandleBroadcastAction action:android.in...</td>\n",
       "      <td>20171223</td>\n",
       "    </tr>\n",
       "    <tr>\n",
       "      <th>4</th>\n",
       "      <td>22:15:29:635</td>\n",
       "      <td>Step_StandStepCounter</td>\n",
       "      <td>30002312</td>\n",
       "      <td>flush sensor data</td>\n",
       "      <td>E12</td>\n",
       "      <td>flush sensor data</td>\n",
       "      <td>20171223</td>\n",
       "    </tr>\n",
       "  </tbody>\n",
       "</table>\n",
       "</div>"
      ],
      "text/plain": [
       "           Time                 Component       Pid  \\\n",
       "0  22:15:29:606                  Step_LSC  30002312   \n",
       "1  22:15:29:615                  Step_LSC  30002312   \n",
       "2  22:15:29:633  Step_StandReportReceiver  30002312   \n",
       "3  22:15:29:635                  Step_LSC  30002312   \n",
       "4  22:15:29:635     Step_StandStepCounter  30002312   \n",
       "\n",
       "                                             Content EventId  \\\n",
       "0                            onStandStepChanged 3579     E42   \n",
       "1                      onExtend:1514038530000 14 0 4     E39   \n",
       "2  onReceive action: android.intent.action.SCREEN_ON     E41   \n",
       "3  processHandleBroadcastAction action:android.in...     E43   \n",
       "4                                  flush sensor data     E12   \n",
       "\n",
       "                                       EventTemplate      Date  \n",
       "0                             onStandStepChanged <*>  20171223  \n",
       "1                           onExtend:<*> <*> <*> <*>  20171223  \n",
       "2  onReceive action: android.intent.action.SCREEN_ON  20171223  \n",
       "3  processHandleBroadcastAction action:android.in...  20171223  \n",
       "4                                  flush sensor data  20171223  "
      ]
     },
     "execution_count": 8,
     "metadata": {},
     "output_type": "execute_result"
    }
   ],
   "source": [
    "health_df.head()"
   ]
  },
  {
   "cell_type": "code",
   "execution_count": 10,
   "id": "714cb092",
   "metadata": {},
   "outputs": [
    {
     "name": "stdout",
     "output_type": "stream",
     "text": [
      "<class 'pandas.core.frame.DataFrame'>\n",
      "RangeIndex: 2000 entries, 0 to 1999\n",
      "Data columns (total 7 columns):\n",
      " #   Column         Non-Null Count  Dtype \n",
      "---  ------         --------------  ----- \n",
      " 0   Time           2000 non-null   object\n",
      " 1   Component      2000 non-null   object\n",
      " 2   Pid            2000 non-null   int64 \n",
      " 3   Content        2000 non-null   object\n",
      " 4   EventId        2000 non-null   object\n",
      " 5   EventTemplate  2000 non-null   object\n",
      " 6   Date           2000 non-null   object\n",
      "dtypes: int64(1), object(6)\n",
      "memory usage: 109.5+ KB\n"
     ]
    }
   ],
   "source": [
    "health_df.info()"
   ]
  },
  {
   "cell_type": "code",
   "execution_count": 14,
   "id": "c1e78cff",
   "metadata": {},
   "outputs": [],
   "source": [
    "# Custom function to extract hour from the custom time format\n",
    "def extract_hour(time_str):\n",
    "    time_parts = time_str.split(':')\n",
    "    hour = int(time_parts[0])\n",
    "    return hour\n"
   ]
  },
  {
   "cell_type": "code",
   "execution_count": 15,
   "id": "a55d423d",
   "metadata": {},
   "outputs": [],
   "source": [
    "health_df['Hour'] = health_df['Time'].apply(extract_hour)"
   ]
  },
  {
   "cell_type": "code",
   "execution_count": 16,
   "id": "23b234f0",
   "metadata": {},
   "outputs": [
    {
     "data": {
      "text/html": [
       "<div>\n",
       "<style scoped>\n",
       "    .dataframe tbody tr th:only-of-type {\n",
       "        vertical-align: middle;\n",
       "    }\n",
       "\n",
       "    .dataframe tbody tr th {\n",
       "        vertical-align: top;\n",
       "    }\n",
       "\n",
       "    .dataframe thead th {\n",
       "        text-align: right;\n",
       "    }\n",
       "</style>\n",
       "<table border=\"1\" class=\"dataframe\">\n",
       "  <thead>\n",
       "    <tr style=\"text-align: right;\">\n",
       "      <th></th>\n",
       "      <th>Time</th>\n",
       "      <th>Component</th>\n",
       "      <th>Pid</th>\n",
       "      <th>Content</th>\n",
       "      <th>EventId</th>\n",
       "      <th>EventTemplate</th>\n",
       "      <th>Date</th>\n",
       "      <th>Hour</th>\n",
       "    </tr>\n",
       "  </thead>\n",
       "  <tbody>\n",
       "    <tr>\n",
       "      <th>0</th>\n",
       "      <td>22:15:29:606</td>\n",
       "      <td>Step_LSC</td>\n",
       "      <td>30002312</td>\n",
       "      <td>onStandStepChanged 3579</td>\n",
       "      <td>E42</td>\n",
       "      <td>onStandStepChanged &lt;*&gt;</td>\n",
       "      <td>20171223</td>\n",
       "      <td>22</td>\n",
       "    </tr>\n",
       "    <tr>\n",
       "      <th>1</th>\n",
       "      <td>22:15:29:615</td>\n",
       "      <td>Step_LSC</td>\n",
       "      <td>30002312</td>\n",
       "      <td>onExtend:1514038530000 14 0 4</td>\n",
       "      <td>E39</td>\n",
       "      <td>onExtend:&lt;*&gt; &lt;*&gt; &lt;*&gt; &lt;*&gt;</td>\n",
       "      <td>20171223</td>\n",
       "      <td>22</td>\n",
       "    </tr>\n",
       "    <tr>\n",
       "      <th>2</th>\n",
       "      <td>22:15:29:633</td>\n",
       "      <td>Step_StandReportReceiver</td>\n",
       "      <td>30002312</td>\n",
       "      <td>onReceive action: android.intent.action.SCREEN_ON</td>\n",
       "      <td>E41</td>\n",
       "      <td>onReceive action: android.intent.action.SCREEN_ON</td>\n",
       "      <td>20171223</td>\n",
       "      <td>22</td>\n",
       "    </tr>\n",
       "    <tr>\n",
       "      <th>3</th>\n",
       "      <td>22:15:29:635</td>\n",
       "      <td>Step_LSC</td>\n",
       "      <td>30002312</td>\n",
       "      <td>processHandleBroadcastAction action:android.in...</td>\n",
       "      <td>E43</td>\n",
       "      <td>processHandleBroadcastAction action:android.in...</td>\n",
       "      <td>20171223</td>\n",
       "      <td>22</td>\n",
       "    </tr>\n",
       "    <tr>\n",
       "      <th>4</th>\n",
       "      <td>22:15:29:635</td>\n",
       "      <td>Step_StandStepCounter</td>\n",
       "      <td>30002312</td>\n",
       "      <td>flush sensor data</td>\n",
       "      <td>E12</td>\n",
       "      <td>flush sensor data</td>\n",
       "      <td>20171223</td>\n",
       "      <td>22</td>\n",
       "    </tr>\n",
       "  </tbody>\n",
       "</table>\n",
       "</div>"
      ],
      "text/plain": [
       "           Time                 Component       Pid  \\\n",
       "0  22:15:29:606                  Step_LSC  30002312   \n",
       "1  22:15:29:615                  Step_LSC  30002312   \n",
       "2  22:15:29:633  Step_StandReportReceiver  30002312   \n",
       "3  22:15:29:635                  Step_LSC  30002312   \n",
       "4  22:15:29:635     Step_StandStepCounter  30002312   \n",
       "\n",
       "                                             Content EventId  \\\n",
       "0                            onStandStepChanged 3579     E42   \n",
       "1                      onExtend:1514038530000 14 0 4     E39   \n",
       "2  onReceive action: android.intent.action.SCREEN_ON     E41   \n",
       "3  processHandleBroadcastAction action:android.in...     E43   \n",
       "4                                  flush sensor data     E12   \n",
       "\n",
       "                                       EventTemplate      Date  Hour  \n",
       "0                             onStandStepChanged <*>  20171223    22  \n",
       "1                           onExtend:<*> <*> <*> <*>  20171223    22  \n",
       "2  onReceive action: android.intent.action.SCREEN_ON  20171223    22  \n",
       "3  processHandleBroadcastAction action:android.in...  20171223    22  \n",
       "4                                  flush sensor data  20171223    22  "
      ]
     },
     "execution_count": 16,
     "metadata": {},
     "output_type": "execute_result"
    }
   ],
   "source": [
    "health_df.head()"
   ]
  },
  {
   "cell_type": "code",
   "execution_count": 26,
   "id": "2f421968",
   "metadata": {},
   "outputs": [
    {
     "data": {
      "image/png": "[encoded data removed]",
      "text/plain": [
       "<Figure size 1000x500 with 1 Axes>"
      ]
     },
     "metadata": {},
     "output_type": "display_data"
    }
   ],
   "source": [
    "# countplot to get the hour with the higest number of activity in the app \n",
    "plt.figure(figsize=(10,5))\n",
    "ax = sns.countplot(x='Hour',data = health_df)\n",
    "plt.title('Time vs number of logs')\n",
    "plt.xlabel('Time in 24h fromat')\n",
    "plt.ylabel('Freaquncy')\n",
    "\n",
    "for p in ax.patches:\n",
    "    ax.annotate(f'{p.get_height()}', (p.get_x() + p.get_width() / 2, p.get_height()),\n",
    "                ha='center', va='bottom', fontsize=9, color='black')"
   ]
  },
  {
   "cell_type": "code",
   "execution_count": 24,
   "id": "ebca8e23",
   "metadata": {},
   "outputs": [
    {
     "data": {
      "text/plain": [
       "22    1243\n",
       "23     533\n",
       "0      221\n",
       "1        3\n",
       "Name: Hour, dtype: int64"
      ]
     },
     "execution_count": 24,
     "metadata": {},
     "output_type": "execute_result"
    }
   ],
   "source": [
    "health_df['Hour'].value_counts()"
   ]
  },
  {
   "cell_type": "code",
   "execution_count": 34,
   "id": "95fda914",
   "metadata": {},
   "outputs": [
    {
     "data": {
      "text/html": [
       "<div>\n",
       "<style scoped>\n",
       "    .dataframe tbody tr th:only-of-type {\n",
       "        vertical-align: middle;\n",
       "    }\n",
       "\n",
       "    .dataframe tbody tr th {\n",
       "        vertical-align: top;\n",
       "    }\n",
       "\n",
       "    .dataframe thead th {\n",
       "        text-align: right;\n",
       "    }\n",
       "</style>\n",
       "<table border=\"1\" class=\"dataframe\">\n",
       "  <thead>\n",
       "    <tr style=\"text-align: right;\">\n",
       "      <th></th>\n",
       "      <th>Event</th>\n",
       "      <th>Count</th>\n",
       "    </tr>\n",
       "  </thead>\n",
       "  <tbody>\n",
       "    <tr>\n",
       "      <th>0</th>\n",
       "      <td>E39</td>\n",
       "      <td>273</td>\n",
       "    </tr>\n",
       "    <tr>\n",
       "      <th>1</th>\n",
       "      <td>E42</td>\n",
       "      <td>260</td>\n",
       "    </tr>\n",
       "    <tr>\n",
       "      <th>2</th>\n",
       "      <td>E22</td>\n",
       "      <td>242</td>\n",
       "    </tr>\n",
       "    <tr>\n",
       "      <th>3</th>\n",
       "      <td>E58</td>\n",
       "      <td>241</td>\n",
       "    </tr>\n",
       "    <tr>\n",
       "      <th>4</th>\n",
       "      <td>E3</td>\n",
       "      <td>241</td>\n",
       "    </tr>\n",
       "  </tbody>\n",
       "</table>\n",
       "</div>"
      ],
      "text/plain": [
       "  Event  Count\n",
       "0   E39    273\n",
       "1   E42    260\n",
       "2   E22    242\n",
       "3   E58    241\n",
       "4    E3    241"
      ]
     },
     "execution_count": 34,
     "metadata": {},
     "output_type": "execute_result"
    }
   ],
   "source": [
    "# Countplot for the top 10 most used features (event_id) in the app\n",
    "\n",
    "event= health_df['EventId'].value_counts()\n",
    "# selecting top 10 events \n",
    "event = event.head(10)\n",
    "\n",
    "event_df = pd.DataFrame({'Event':event.index,'Count':event.values})\n",
    "event_df.head()"
   ]
  },
  {
   "cell_type": "code",
   "execution_count": 35,
   "id": "f8505458",
   "metadata": {},
   "outputs": [
    {
     "data": {
      "image/png": "[encoded data removed]",
      "text/plain": [
       "<Figure size 1000x500 with 1 Axes>"
      ]
     },
     "metadata": {},
     "output_type": "display_data"
    }
   ],
   "source": [
    "plt.figure(figsize=(10,5))\n",
    "ax = sns.barplot(x='Event',y='Count',data = event_df)\n",
    "plt.title('top 10 events')\n",
    "plt.xlabel('Event')\n",
    "plt.ylabel('Freaquncy')\n",
    "\n",
    "for p in ax.patches:\n",
    "    ax.annotate(f'{p.get_height()}', (p.get_x() + p.get_width() / 2, p.get_height()),\n",
    "                ha='center', va='bottom', fontsize=9, color='black')"
   ]
  },
  {
   "cell_type": "code",
   "execution_count": 45,
   "id": "a0d42372",
   "metadata": {},
   "outputs": [],
   "source": [
    "# freaquncy of top 5 action performed (components)\n",
    "component = health_df['Component'].value_counts()\n",
    "component = component.head(5)\n",
    "component_df = pd.DataFrame({'Name':component.index,'Count':component.values})"
   ]
  },
  {
   "cell_type": "code",
   "execution_count": 48,
   "id": "47f8d9c2",
   "metadata": {},
   "outputs": [
    {
     "data": {
      "image/png": "[encoded data removed]",
      "text/plain": [
       "<Figure size 1500x500 with 1 Axes>"
      ]
     },
     "metadata": {},
     "output_type": "display_data"
    }
   ],
   "source": [
    "plt.figure(figsize=(15,5))\n",
    "ax = sns. barplot(x='Name',y='Count',data =component_df)\n",
    "plt.title('Top 5 Actions ')\n",
    "plt.xlabel('Action Name')\n",
    "plt.ylabel('Freaquncy')\n",
    "\n",
    "for p in ax.patches:\n",
    "    ax.annotate(f'{p.get_height()}', (p.get_x() + p.get_width() / 2, p.get_height()),\n",
    "                ha='center', va='bottom', fontsize=9, color='black')"
   ]
  },
  {
   "cell_type": "code",
   "execution_count": 59,
   "id": "67d7f215",
   "metadata": {},
   "outputs": [
    {
     "data": {
      "text/plain": [
       "<Figure size 1200x600 with 0 Axes>"
      ]
     },
     "metadata": {},
     "output_type": "display_data"
    },
    {
     "data": {
      "image/png": "[encoded data removed]",
      "text/plain": [
       "<Figure size 1000x600 with 1 Axes>"
      ]
     },
     "metadata": {},
     "output_type": "display_data"
    }
   ],
   "source": [
    "plt.figure(figsize=(12,6))\n",
    "# Calculate the frequency of top 5 components and EventIds\n",
    "top_5_components = health_df['Component'].value_counts().head(5).index.tolist()\n",
    "top_5_event_ids = health_df['EventId'].value_counts().head(5).index.tolist()\n",
    "\n",
    "# Filter the DataFrame based on the top 5 components and EventIds\n",
    "top_5_components_df = health_df[health_df['Component'].isin(top_5_components)]\n",
    "top_5_events_df = health_df[health_df['EventId'].isin(top_5_event_ids)]\n",
    "\n",
    "# Plotting the relationships between top 5 components and top 5 EventIds\n",
    "plt.figure(figsize=(10, 6))\n",
    "sns.countplot(x='Component', hue='EventId', data=top_5_components_df[top_5_components_df['EventId'].isin(top_5_event_ids)], palette='viridis')\n",
    "plt.title('Relationship between Top 5 Components and Top 5 EventIds')\n",
    "plt.xlabel('Component')\n",
    "plt.ylabel('Frequency')\n",
    "plt.xticks(rotation=90)\n",
    "plt.legend(title='EventId')\n",
    "plt.tight_layout()\n",
    "plt.show()\n"
   ]
  },
  {
   "cell_type": "code",
   "execution_count": null,
   "id": "2cc1b4b3",
   "metadata": {},
   "outputs": [],
   "source": []
  }
 ],
 "metadata": {
  "kernelspec": {
   "display_name": "Python 3 (ipykernel)",
   "language": "python",
   "name": "python3"
  },
  "language_info": {
   "codemirror_mode": {
    "name": "ipython",
    "version": 3
   },
   "file_extension": ".py",
   "mimetype": "text/x-python",
   "name": "python",
   "nbconvert_exporter": "python",
   "pygments_lexer": "ipython3",
   "version": "3.9.13"
  }
 },
 "nbformat": 4,
 "nbformat_minor": 5
}
